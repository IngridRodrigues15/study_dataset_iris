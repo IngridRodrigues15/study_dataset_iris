{
  "nbformat": 4,
  "nbformat_minor": 0,
  "metadata": {
    "colab": {
      "name": "machinelearn_dataset_iris.ipynb",
      "provenance": [],
      "authorship_tag": "ABX9TyO00tpdpsnpq+tBCWS9emRz",
      "include_colab_link": true
    },
    "kernelspec": {
      "name": "python3",
      "display_name": "Python 3"
    },
    "language_info": {
      "name": "python"
    }
  },
  "cells": [
    {
      "cell_type": "markdown",
      "metadata": {
        "id": "view-in-github",
        "colab_type": "text"
      },
      "source": [
        "<a href=\"https://colab.research.google.com/github/IngridRodrigues15/study_dataset_iris/blob/main/machine_learning_dataset_iris.ipynb\" target=\"_parent\"><img src=\"https://colab.research.google.com/assets/colab-badge.svg\" alt=\"Open In Colab\"/></a>"
      ]
    },
    {
      "cell_type": "markdown",
      "metadata": {
        "id": "SRGlMaSaTUJY"
      },
      "source": [
        "Referencias \n",
        "\n",
        "Reproduzir os resultados do treinamento e avaliação de modelos conforme apresentado no capítulo 5 da referência presente no seguinte repositório (arquivo Moving2DS_Part1_pt_br.pdf).\n",
        "\n",
        "\n",
        "https://github.com/alex-carneiro/Moving2DS"
      ]
    },
    {
      "cell_type": "code",
      "metadata": {
        "id": "bCcuXyFOTLXV"
      },
      "source": [
        "import pandas as pd\n",
        "import numpy as np\n",
        "\n",
        "# lib para algoritmo de regressão linear\n",
        "from sklearn.linear_model import LogisticRegression\n",
        "from sklearn.model_selection import train_test_split\n",
        "from sklearn.metrics import confusion_matrix\n",
        "import joblib\n",
        "\n",
        "import matplotlib.pyplot as plt\n",
        "%matplotlib inline\n"
      ],
      "execution_count": null,
      "outputs": []
    },
    {
      "cell_type": "code",
      "metadata": {
        "colab": {
          "base_uri": "https://localhost:8080/",
          "height": 221
        },
        "id": "LMogblZvTp78",
        "outputId": "530ee189-a3d7-4dad-e994-7ad474fef82a"
      },
      "source": [
        "# Carregando o data set\n",
        "\n",
        "dataset = pd.read_csv(\"/content/iris.data\", header=None)\n",
        "dataset.columns = [\"sepal_l\", \"sepal_w\",\n",
        "                   \"petal_l\", \"petal_w\",\n",
        "                   \"class\"]\n",
        "\n",
        "print(\"Read %d samples from the dataset\"%len(dataset))\n",
        "dataset.sample(5)"
      ],
      "execution_count": null,
      "outputs": [
        {
          "output_type": "stream",
          "text": [
            "Read 150 samples from the dataset\n"
          ],
          "name": "stdout"
        },
        {
          "output_type": "execute_result",
          "data": {
            "text/html": [
              "<div>\n",
              "<style scoped>\n",
              "    .dataframe tbody tr th:only-of-type {\n",
              "        vertical-align: middle;\n",
              "    }\n",
              "\n",
              "    .dataframe tbody tr th {\n",
              "        vertical-align: top;\n",
              "    }\n",
              "\n",
              "    .dataframe thead th {\n",
              "        text-align: right;\n",
              "    }\n",
              "</style>\n",
              "<table border=\"1\" class=\"dataframe\">\n",
              "  <thead>\n",
              "    <tr style=\"text-align: right;\">\n",
              "      <th></th>\n",
              "      <th>sepal_l</th>\n",
              "      <th>sepal_w</th>\n",
              "      <th>petal_l</th>\n",
              "      <th>petal_w</th>\n",
              "      <th>class</th>\n",
              "    </tr>\n",
              "  </thead>\n",
              "  <tbody>\n",
              "    <tr>\n",
              "      <th>0</th>\n",
              "      <td>5.1</td>\n",
              "      <td>3.5</td>\n",
              "      <td>1.4</td>\n",
              "      <td>0.2</td>\n",
              "      <td>Iris-setosa</td>\n",
              "    </tr>\n",
              "    <tr>\n",
              "      <th>43</th>\n",
              "      <td>5.0</td>\n",
              "      <td>3.5</td>\n",
              "      <td>1.6</td>\n",
              "      <td>0.6</td>\n",
              "      <td>Iris-setosa</td>\n",
              "    </tr>\n",
              "    <tr>\n",
              "      <th>113</th>\n",
              "      <td>5.7</td>\n",
              "      <td>2.5</td>\n",
              "      <td>5.0</td>\n",
              "      <td>2.0</td>\n",
              "      <td>Iris-virginica</td>\n",
              "    </tr>\n",
              "    <tr>\n",
              "      <th>30</th>\n",
              "      <td>4.8</td>\n",
              "      <td>3.1</td>\n",
              "      <td>1.6</td>\n",
              "      <td>0.2</td>\n",
              "      <td>Iris-setosa</td>\n",
              "    </tr>\n",
              "    <tr>\n",
              "      <th>53</th>\n",
              "      <td>5.5</td>\n",
              "      <td>2.3</td>\n",
              "      <td>4.0</td>\n",
              "      <td>1.3</td>\n",
              "      <td>Iris-versicolor</td>\n",
              "    </tr>\n",
              "  </tbody>\n",
              "</table>\n",
              "</div>"
            ],
            "text/plain": [
              "     sepal_l  sepal_w  petal_l  petal_w            class\n",
              "0        5.1      3.5      1.4      0.2      Iris-setosa\n",
              "43       5.0      3.5      1.6      0.6      Iris-setosa\n",
              "113      5.7      2.5      5.0      2.0   Iris-virginica\n",
              "30       4.8      3.1      1.6      0.2      Iris-setosa\n",
              "53       5.5      2.3      4.0      1.3  Iris-versicolor"
            ]
          },
          "metadata": {
            "tags": []
          },
          "execution_count": 2
        }
      ]
    },
    {
      "cell_type": "code",
      "metadata": {
        "colab": {
          "base_uri": "https://localhost:8080/"
        },
        "id": "7tQx0gIwl0hw",
        "outputId": "fa28a913-039b-4534-972d-c4386f69c879"
      },
      "source": [
        "#Data split for training and testing\n",
        "\n",
        "full_data_input = dataset[[\"sepal_l\", \"sepal_w\",\n",
        "                           \"petal_l\", \"petal_w\"]].values\n",
        "\n",
        "# print(full_data_input)\n",
        "\n",
        "full_data_output = dataset[\"class\"].values\n",
        "# print(full_data_output)\n",
        "\n",
        "\n",
        "\n",
        "train_input, test_input,\\\n",
        "train_output, test_output = train_test_split(full_data_input,\n",
        "                                             full_data_output,\n",
        "                                             test_size=.1)\n",
        "full_data_input.shape, train_input.shape, test_input.shape"
      ],
      "execution_count": null,
      "outputs": [
        {
          "output_type": "execute_result",
          "data": {
            "text/plain": [
              "((150, 4), (135, 4), (15, 4))"
            ]
          },
          "metadata": {
            "tags": []
          },
          "execution_count": 6
        }
      ]
    },
    {
      "cell_type": "code",
      "metadata": {
        "colab": {
          "base_uri": "https://localhost:8080/"
        },
        "id": "W1XLrBk0mfMH",
        "outputId": "31bf8c08-ae1a-4db7-8b48-dc76c4f0f599"
      },
      "source": [
        "\n",
        "# Create and train a new instance of the classifier\n",
        "\n",
        "model = LogisticRegression()\n",
        "model.fit(train_input, train_output)"
      ],
      "execution_count": null,
      "outputs": [
        {
          "output_type": "execute_result",
          "data": {
            "text/plain": [
              "LogisticRegression(C=1.0, class_weight=None, dual=False, fit_intercept=True,\n",
              "                   intercept_scaling=1, l1_ratio=None, max_iter=100,\n",
              "                   multi_class='auto', n_jobs=None, penalty='l2',\n",
              "                   random_state=None, solver='lbfgs', tol=0.0001, verbose=0,\n",
              "                   warm_start=False)"
            ]
          },
          "metadata": {
            "tags": []
          },
          "execution_count": 7
        }
      ]
    },
    {
      "cell_type": "code",
      "metadata": {
        "colab": {
          "base_uri": "https://localhost:8080/"
        },
        "id": "z2-XR3o9muiu",
        "outputId": "86db4e57-5310-4540-8a18-04412ded4277"
      },
      "source": [
        "# Evaluate the trained model\n",
        "\n",
        "acc = model.score(test_input, test_output)\n",
        "print(\"Model accuracy = %.1f%%\"%(100 * acc))"
      ],
      "execution_count": null,
      "outputs": [
        {
          "output_type": "stream",
          "text": [
            "Model accuracy = 100.0%\n"
          ],
          "name": "stdout"
        }
      ]
    },
    {
      "cell_type": "markdown",
      "metadata": {
        "id": "KMmDVqnI-y87"
      },
      "source": [
        "Curiosidadee, usando apenas 10% dos dados, a acuracia chega a 100%, aumentando o volume de dados a acuracia vai diminuindo "
      ]
    },
    {
      "cell_type": "code",
      "metadata": {
        "colab": {
          "base_uri": "https://localhost:8080/"
        },
        "id": "AtTFGZWzm1w0",
        "outputId": "a29551a6-3910-4c53-e279-3bb7deff4ea7"
      },
      "source": [
        "predictions = model.predict(test_input)\n",
        "matrix = confusion_matrix(predictions, test_output)\n",
        "print(matrix)"
      ],
      "execution_count": null,
      "outputs": [
        {
          "output_type": "stream",
          "text": [
            "[[13  0  0]\n",
            " [ 0  9  0]\n",
            " [ 0  1  7]]\n"
          ],
          "name": "stdout"
        }
      ]
    },
    {
      "cell_type": "code",
      "metadata": {
        "colab": {
          "base_uri": "https://localhost:8080/",
          "height": 142
        },
        "id": "HxR_WnRgm8X0",
        "outputId": "0a548dd8-fc59-4ef6-f965-4b271d8cf978"
      },
      "source": [
        "\n",
        "classes = sorted(np.unique(test_output))\n",
        "pd.DataFrame(dict([(cl, l) for cl, l in zip(classes, matrix.T)]), index=classes)"
      ],
      "execution_count": null,
      "outputs": [
        {
          "output_type": "execute_result",
          "data": {
            "text/html": [
              "<div>\n",
              "<style scoped>\n",
              "    .dataframe tbody tr th:only-of-type {\n",
              "        vertical-align: middle;\n",
              "    }\n",
              "\n",
              "    .dataframe tbody tr th {\n",
              "        vertical-align: top;\n",
              "    }\n",
              "\n",
              "    .dataframe thead th {\n",
              "        text-align: right;\n",
              "    }\n",
              "</style>\n",
              "<table border=\"1\" class=\"dataframe\">\n",
              "  <thead>\n",
              "    <tr style=\"text-align: right;\">\n",
              "      <th></th>\n",
              "      <th>Iris-setosa</th>\n",
              "      <th>Iris-versicolor</th>\n",
              "      <th>Iris-virginica</th>\n",
              "    </tr>\n",
              "  </thead>\n",
              "  <tbody>\n",
              "    <tr>\n",
              "      <th>Iris-setosa</th>\n",
              "      <td>13</td>\n",
              "      <td>0</td>\n",
              "      <td>0</td>\n",
              "    </tr>\n",
              "    <tr>\n",
              "      <th>Iris-versicolor</th>\n",
              "      <td>0</td>\n",
              "      <td>9</td>\n",
              "      <td>0</td>\n",
              "    </tr>\n",
              "    <tr>\n",
              "      <th>Iris-virginica</th>\n",
              "      <td>0</td>\n",
              "      <td>1</td>\n",
              "      <td>7</td>\n",
              "    </tr>\n",
              "  </tbody>\n",
              "</table>\n",
              "</div>"
            ],
            "text/plain": [
              "                 Iris-setosa  Iris-versicolor  Iris-virginica\n",
              "Iris-setosa               13                0               0\n",
              "Iris-versicolor            0                9               0\n",
              "Iris-virginica             0                1               7"
            ]
          },
          "metadata": {
            "tags": []
          },
          "execution_count": 21
        }
      ]
    }
  ]
}